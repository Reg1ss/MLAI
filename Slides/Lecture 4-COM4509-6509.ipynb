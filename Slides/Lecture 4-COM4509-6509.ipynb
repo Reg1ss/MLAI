{
 "cells": [
  {
   "cell_type": "markdown",
   "metadata": {
    "slideshow": {
     "slide_type": "slide"
    }
   },
   "source": [
    "# Basis Functions\n",
    "\n",
    "## Machine Learning and Adaptive Intelligence\n",
    "\n",
    "### Mauricio Álvarez \n",
    "\n",
    "### Based on slides by Neil D. Lawrence\n"
   ]
  },
  {
   "cell_type": "code",
   "execution_count": 2,
   "metadata": {
    "slideshow": {
     "slide_type": "subslide"
    }
   },
   "outputs": [
    {
     "ename": "ValueError",
     "evalue": "numpy.ufunc size changed, may indicate binary incompatibility. Expected 216 from C header, got 192 from PyObject",
     "output_type": "error",
     "traceback": [
      "\u001b[0;31m---------------------------------------------------------------------------\u001b[0m",
      "\u001b[0;31mValueError\u001b[0m                                Traceback (most recent call last)",
      "\u001b[0;32m<ipython-input-2-16c2e9ded2b6>\u001b[0m in \u001b[0;36m<module>\u001b[0;34m()\u001b[0m\n\u001b[1;32m      6\u001b[0m \u001b[0;32mimport\u001b[0m \u001b[0mnumpy\u001b[0m \u001b[0;32mas\u001b[0m \u001b[0mnp\u001b[0m\u001b[0;34m\u001b[0m\u001b[0;34m\u001b[0m\u001b[0m\n\u001b[1;32m      7\u001b[0m \u001b[0;32mimport\u001b[0m \u001b[0mscipy\u001b[0m \u001b[0;32mas\u001b[0m \u001b[0msp\u001b[0m\u001b[0;34m\u001b[0m\u001b[0;34m\u001b[0m\u001b[0m\n\u001b[0;32m----> 8\u001b[0;31m \u001b[0;32mimport\u001b[0m \u001b[0mteaching_plots\u001b[0m \u001b[0;32mas\u001b[0m \u001b[0mplot\u001b[0m\u001b[0;34m\u001b[0m\u001b[0;34m\u001b[0m\u001b[0m\n\u001b[0m\u001b[1;32m      9\u001b[0m \u001b[0mget_ipython\u001b[0m\u001b[0;34m(\u001b[0m\u001b[0;34m)\u001b[0m\u001b[0;34m.\u001b[0m\u001b[0mrun_line_magic\u001b[0m\u001b[0;34m(\u001b[0m\u001b[0;34m'matplotlib'\u001b[0m\u001b[0;34m,\u001b[0m \u001b[0;34m'inline'\u001b[0m\u001b[0;34m)\u001b[0m\u001b[0;34m\u001b[0m\u001b[0;34m\u001b[0m\u001b[0m\n",
      "\u001b[0;32m~/PycharmProjects/PG_MLAI/Slides/teaching_plots.py\u001b[0m in \u001b[0;36m<module>\u001b[0;34m()\u001b[0m\n\u001b[1;32m      5\u001b[0m \u001b[0;32mfrom\u001b[0m \u001b[0mmpl_toolkits\u001b[0m\u001b[0;34m.\u001b[0m\u001b[0mmplot3d\u001b[0m \u001b[0;32mimport\u001b[0m \u001b[0mAxes3D\u001b[0m\u001b[0;34m\u001b[0m\u001b[0;34m\u001b[0m\u001b[0m\n\u001b[1;32m      6\u001b[0m \u001b[0;34m\u001b[0m\u001b[0m\n\u001b[0;32m----> 7\u001b[0;31m \u001b[0;32mimport\u001b[0m \u001b[0mGPy\u001b[0m\u001b[0;34m\u001b[0m\u001b[0;34m\u001b[0m\u001b[0m\n\u001b[0m\u001b[1;32m      8\u001b[0m \u001b[0;32mimport\u001b[0m \u001b[0mSlides\u001b[0m\u001b[0;34m.\u001b[0m\u001b[0mmlai\u001b[0m \u001b[0;32mas\u001b[0m \u001b[0mmlai\u001b[0m\u001b[0;34m\u001b[0m\u001b[0;34m\u001b[0m\u001b[0m\n\u001b[1;32m      9\u001b[0m \u001b[0;34m\u001b[0m\u001b[0m\n",
      "\u001b[0;32m~/anaconda3/lib/python3.6/site-packages/GPy/__init__.py\u001b[0m in \u001b[0;36m<module>\u001b[0;34m()\u001b[0m\n\u001b[1;32m      4\u001b[0m \u001b[0mwarnings\u001b[0m\u001b[0;34m.\u001b[0m\u001b[0mfilterwarnings\u001b[0m\u001b[0;34m(\u001b[0m\u001b[0;34m\"ignore\"\u001b[0m\u001b[0;34m,\u001b[0m \u001b[0mcategory\u001b[0m\u001b[0;34m=\u001b[0m\u001b[0mDeprecationWarning\u001b[0m\u001b[0;34m)\u001b[0m\u001b[0;34m\u001b[0m\u001b[0;34m\u001b[0m\u001b[0m\n\u001b[1;32m      5\u001b[0m \u001b[0;34m\u001b[0m\u001b[0m\n\u001b[0;32m----> 6\u001b[0;31m \u001b[0;32mfrom\u001b[0m \u001b[0;34m.\u001b[0m \u001b[0;32mimport\u001b[0m \u001b[0mcore\u001b[0m\u001b[0;34m\u001b[0m\u001b[0;34m\u001b[0m\u001b[0m\n\u001b[0m\u001b[1;32m      7\u001b[0m \u001b[0;32mfrom\u001b[0m \u001b[0;34m.\u001b[0m \u001b[0;32mimport\u001b[0m \u001b[0mmodels\u001b[0m\u001b[0;34m\u001b[0m\u001b[0;34m\u001b[0m\u001b[0m\n\u001b[1;32m      8\u001b[0m \u001b[0;32mfrom\u001b[0m \u001b[0;34m.\u001b[0m \u001b[0;32mimport\u001b[0m \u001b[0mmappings\u001b[0m\u001b[0;34m\u001b[0m\u001b[0;34m\u001b[0m\u001b[0m\n",
      "\u001b[0;32m~/anaconda3/lib/python3.6/site-packages/GPy/core/__init__.py\u001b[0m in \u001b[0;36m<module>\u001b[0;34m()\u001b[0m\n\u001b[1;32m      6\u001b[0m \u001b[0;32mfrom\u001b[0m \u001b[0;34m.\u001b[0m \u001b[0;32mimport\u001b[0m \u001b[0mparameterization\u001b[0m\u001b[0;34m\u001b[0m\u001b[0;34m\u001b[0m\u001b[0m\n\u001b[1;32m      7\u001b[0m \u001b[0;34m\u001b[0m\u001b[0m\n\u001b[0;32m----> 8\u001b[0;31m \u001b[0;32mfrom\u001b[0m \u001b[0;34m.\u001b[0m\u001b[0mgp\u001b[0m \u001b[0;32mimport\u001b[0m \u001b[0mGP\u001b[0m\u001b[0;34m\u001b[0m\u001b[0;34m\u001b[0m\u001b[0m\n\u001b[0m\u001b[1;32m      9\u001b[0m \u001b[0;32mfrom\u001b[0m \u001b[0;34m.\u001b[0m\u001b[0msvgp\u001b[0m \u001b[0;32mimport\u001b[0m \u001b[0mSVGP\u001b[0m\u001b[0;34m\u001b[0m\u001b[0;34m\u001b[0m\u001b[0m\n\u001b[1;32m     10\u001b[0m \u001b[0;32mfrom\u001b[0m \u001b[0;34m.\u001b[0m\u001b[0msparse_gp\u001b[0m \u001b[0;32mimport\u001b[0m \u001b[0mSparseGP\u001b[0m\u001b[0;34m\u001b[0m\u001b[0;34m\u001b[0m\u001b[0m\n",
      "\u001b[0;32m~/anaconda3/lib/python3.6/site-packages/GPy/core/gp.py\u001b[0m in \u001b[0;36m<module>\u001b[0;34m()\u001b[0m\n\u001b[1;32m      6\u001b[0m \u001b[0;32mfrom\u001b[0m \u001b[0;34m.\u001b[0m\u001b[0mparameterization\u001b[0m\u001b[0;34m.\u001b[0m\u001b[0mvariational\u001b[0m \u001b[0;32mimport\u001b[0m \u001b[0mVariationalPosterior\u001b[0m\u001b[0;34m\u001b[0m\u001b[0;34m\u001b[0m\u001b[0m\n\u001b[1;32m      7\u001b[0m \u001b[0;32mfrom\u001b[0m \u001b[0;34m.\u001b[0m\u001b[0mmapping\u001b[0m \u001b[0;32mimport\u001b[0m \u001b[0mMapping\u001b[0m\u001b[0;34m\u001b[0m\u001b[0;34m\u001b[0m\u001b[0m\n\u001b[0;32m----> 8\u001b[0;31m \u001b[0;32mfrom\u001b[0m \u001b[0;34m.\u001b[0m\u001b[0;34m.\u001b[0m \u001b[0;32mimport\u001b[0m \u001b[0mlikelihoods\u001b[0m\u001b[0;34m\u001b[0m\u001b[0;34m\u001b[0m\u001b[0m\n\u001b[0m\u001b[1;32m      9\u001b[0m \u001b[0;32mfrom\u001b[0m \u001b[0;34m.\u001b[0m\u001b[0;34m.\u001b[0m \u001b[0;32mimport\u001b[0m \u001b[0mkern\u001b[0m\u001b[0;34m\u001b[0m\u001b[0;34m\u001b[0m\u001b[0m\n\u001b[1;32m     10\u001b[0m \u001b[0;32mfrom\u001b[0m \u001b[0;34m.\u001b[0m\u001b[0;34m.\u001b[0m\u001b[0minference\u001b[0m\u001b[0;34m.\u001b[0m\u001b[0mlatent_function_inference\u001b[0m \u001b[0;32mimport\u001b[0m \u001b[0mexact_gaussian_inference\u001b[0m\u001b[0;34m,\u001b[0m \u001b[0mexpectation_propagation\u001b[0m\u001b[0;34m\u001b[0m\u001b[0;34m\u001b[0m\u001b[0m\n",
      "\u001b[0;32m~/anaconda3/lib/python3.6/site-packages/GPy/likelihoods/__init__.py\u001b[0m in \u001b[0;36m<module>\u001b[0;34m()\u001b[0m\n\u001b[0;32m----> 1\u001b[0;31m \u001b[0;32mfrom\u001b[0m \u001b[0;34m.\u001b[0m\u001b[0mbernoulli\u001b[0m \u001b[0;32mimport\u001b[0m \u001b[0mBernoulli\u001b[0m\u001b[0;34m\u001b[0m\u001b[0;34m\u001b[0m\u001b[0m\n\u001b[0m\u001b[1;32m      2\u001b[0m \u001b[0;32mfrom\u001b[0m \u001b[0;34m.\u001b[0m\u001b[0mexponential\u001b[0m \u001b[0;32mimport\u001b[0m \u001b[0mExponential\u001b[0m\u001b[0;34m\u001b[0m\u001b[0;34m\u001b[0m\u001b[0m\n\u001b[1;32m      3\u001b[0m \u001b[0;32mfrom\u001b[0m \u001b[0;34m.\u001b[0m\u001b[0mgaussian\u001b[0m \u001b[0;32mimport\u001b[0m \u001b[0mGaussian\u001b[0m\u001b[0;34m,\u001b[0m \u001b[0mHeteroscedasticGaussian\u001b[0m\u001b[0;34m\u001b[0m\u001b[0;34m\u001b[0m\u001b[0m\n\u001b[1;32m      4\u001b[0m \u001b[0;32mfrom\u001b[0m \u001b[0;34m.\u001b[0m\u001b[0mgamma\u001b[0m \u001b[0;32mimport\u001b[0m \u001b[0mGamma\u001b[0m\u001b[0;34m\u001b[0m\u001b[0;34m\u001b[0m\u001b[0m\n\u001b[1;32m      5\u001b[0m \u001b[0;32mfrom\u001b[0m \u001b[0;34m.\u001b[0m\u001b[0mpoisson\u001b[0m \u001b[0;32mimport\u001b[0m \u001b[0mPoisson\u001b[0m\u001b[0;34m\u001b[0m\u001b[0;34m\u001b[0m\u001b[0m\n",
      "\u001b[0;32m~/anaconda3/lib/python3.6/site-packages/GPy/likelihoods/bernoulli.py\u001b[0m in \u001b[0;36m<module>\u001b[0;34m()\u001b[0m\n\u001b[1;32m      3\u001b[0m \u001b[0;34m\u001b[0m\u001b[0m\n\u001b[1;32m      4\u001b[0m \u001b[0;32mimport\u001b[0m \u001b[0mnumpy\u001b[0m \u001b[0;32mas\u001b[0m \u001b[0mnp\u001b[0m\u001b[0;34m\u001b[0m\u001b[0;34m\u001b[0m\u001b[0m\n\u001b[0;32m----> 5\u001b[0;31m \u001b[0;32mfrom\u001b[0m \u001b[0;34m.\u001b[0m\u001b[0;34m.\u001b[0m\u001b[0mutil\u001b[0m\u001b[0;34m.\u001b[0m\u001b[0munivariate_Gaussian\u001b[0m \u001b[0;32mimport\u001b[0m \u001b[0mstd_norm_pdf\u001b[0m\u001b[0;34m,\u001b[0m \u001b[0mstd_norm_cdf\u001b[0m\u001b[0;34m,\u001b[0m \u001b[0mderivLogCdfNormal\u001b[0m\u001b[0;34m,\u001b[0m \u001b[0mlogCdfNormal\u001b[0m\u001b[0;34m\u001b[0m\u001b[0;34m\u001b[0m\u001b[0m\n\u001b[0m\u001b[1;32m      6\u001b[0m \u001b[0;32mfrom\u001b[0m \u001b[0;34m.\u001b[0m \u001b[0;32mimport\u001b[0m \u001b[0mlink_functions\u001b[0m\u001b[0;34m\u001b[0m\u001b[0;34m\u001b[0m\u001b[0m\n\u001b[1;32m      7\u001b[0m \u001b[0;32mfrom\u001b[0m \u001b[0;34m.\u001b[0m\u001b[0mlikelihood\u001b[0m \u001b[0;32mimport\u001b[0m \u001b[0mLikelihood\u001b[0m\u001b[0;34m\u001b[0m\u001b[0;34m\u001b[0m\u001b[0m\n",
      "\u001b[0;32m~/anaconda3/lib/python3.6/site-packages/GPy/util/__init__.py\u001b[0m in \u001b[0;36m<module>\u001b[0;34m()\u001b[0m\n\u001b[1;32m      3\u001b[0m \u001b[0;34m\u001b[0m\u001b[0m\n\u001b[1;32m      4\u001b[0m \u001b[0;34m\u001b[0m\u001b[0m\n\u001b[0;32m----> 5\u001b[0;31m \u001b[0;32mfrom\u001b[0m \u001b[0;34m.\u001b[0m \u001b[0;32mimport\u001b[0m \u001b[0mlinalg\u001b[0m\u001b[0;34m\u001b[0m\u001b[0;34m\u001b[0m\u001b[0m\n\u001b[0m\u001b[1;32m      6\u001b[0m \u001b[0;32mfrom\u001b[0m \u001b[0;34m.\u001b[0m \u001b[0;32mimport\u001b[0m \u001b[0mmisc\u001b[0m\u001b[0;34m\u001b[0m\u001b[0;34m\u001b[0m\u001b[0m\n\u001b[1;32m      7\u001b[0m \u001b[0;32mfrom\u001b[0m \u001b[0;34m.\u001b[0m \u001b[0;32mimport\u001b[0m \u001b[0msquashers\u001b[0m\u001b[0;34m\u001b[0m\u001b[0;34m\u001b[0m\u001b[0m\n",
      "\u001b[0;32m~/anaconda3/lib/python3.6/site-packages/GPy/util/linalg.py\u001b[0m in \u001b[0;36m<module>\u001b[0;34m()\u001b[0m\n\u001b[1;32m     13\u001b[0m \u001b[0;34m\u001b[0m\u001b[0m\n\u001b[1;32m     14\u001b[0m \u001b[0;32mtry\u001b[0m\u001b[0;34m:\u001b[0m\u001b[0;34m\u001b[0m\u001b[0;34m\u001b[0m\u001b[0m\n\u001b[0;32m---> 15\u001b[0;31m     \u001b[0;32mfrom\u001b[0m \u001b[0;34m.\u001b[0m \u001b[0;32mimport\u001b[0m \u001b[0mlinalg_cython\u001b[0m\u001b[0;34m\u001b[0m\u001b[0;34m\u001b[0m\u001b[0m\n\u001b[0m\u001b[1;32m     16\u001b[0m     \u001b[0muse_linalg_cython\u001b[0m \u001b[0;34m=\u001b[0m \u001b[0mconfig\u001b[0m\u001b[0;34m.\u001b[0m\u001b[0mgetboolean\u001b[0m\u001b[0;34m(\u001b[0m\u001b[0;34m'cython'\u001b[0m\u001b[0;34m,\u001b[0m \u001b[0;34m'working'\u001b[0m\u001b[0;34m)\u001b[0m\u001b[0;34m\u001b[0m\u001b[0;34m\u001b[0m\u001b[0m\n\u001b[1;32m     17\u001b[0m \u001b[0;32mexcept\u001b[0m \u001b[0mImportError\u001b[0m\u001b[0;34m:\u001b[0m\u001b[0;34m\u001b[0m\u001b[0;34m\u001b[0m\u001b[0m\n",
      "\u001b[0;32m__init__.pxd\u001b[0m in \u001b[0;36minit GPy.util.linalg_cython\u001b[0;34m()\u001b[0m\n",
      "\u001b[0;31mValueError\u001b[0m: numpy.ufunc size changed, may indicate binary incompatibility. Expected 216 from C header, got 192 from PyObject"
     ]
    }
   ],
   "source": [
    "# You need to have mlai.py, teaching_plots.py and gp_tutorial.py in the same folder than this notebook. \n",
    "# You might also need to install GPy using pip install --upgrade GPy\n",
    "import pods\n",
    "import mlai\n",
    "from matplotlib import pyplot as plt\n",
    "import numpy as np\n",
    "import scipy as sp\n",
    "import teaching_plots as plot\n",
    "%matplotlib inline"
   ]
  },
  {
   "cell_type": "markdown",
   "metadata": {
    "slideshow": {
     "slide_type": "slide"
    }
   },
   "source": [
    "### Review\n",
    "- Last time: explored least squares for univariate and multivariate regression.\n",
    "- Introduced matrices, linear algebra and derivatives.\n",
    "- This time: introduce *basis functions* for non-linear regression models."
   ]
  },
  {
   "cell_type": "markdown",
   "metadata": {
    "slideshow": {
     "slide_type": "slide"
    }
   },
   "source": [
    "### Nonlinear Regression\n",
    "\n",
    "-   Problem with Linear Regression: $\\mathbf{x}$ may not be linearly related to $\\mathbf{y}$.\n",
    "\n",
    "-   Potential solution: create a feature space: define $\\phi(\\mathbf{x})$ where $\\phi(\\cdot)$ is a nonlinear function of $\\mathbf{x}$.\n",
    "\n",
    "-   Model for target is a linear combination of these nonlinear\n",
    "    functions\n",
    "    $$f(\\mathbf{x}) = \\sum_{j=0}^m w_j \\phi_j(\\mathbf{x})$$"
   ]
  },
  {
   "cell_type": "markdown",
   "metadata": {
    "slideshow": {
     "slide_type": "slide"
    }
   },
   "source": [
    "### Quadratic Basis\n",
    "\n",
    "-   Basis functions can be global. E.g. quadratic basis:\n",
    "    $$\\boldsymbol{\\phi} = [1, x, x^2]$$"
   ]
  },
  {
   "cell_type": "code",
   "execution_count": 3,
   "metadata": {
    "slideshow": {
     "slide_type": "slide"
    }
   },
   "outputs": [
    {
     "data": {
      "image/png": "[encoded data removed]",
      "text/plain": [
       "<matplotlib.figure.Figure at 0x116862710>"
      ]
     },
     "metadata": {},
     "output_type": "display_data"
    }
   ],
   "source": [
    "f, ax = plt.subplots(figsize=(7, 7))\n",
    "import os\n",
    "\n",
    "loc =[[0, 1.4,],\n",
    "      [0, -0.7],\n",
    "      [0.75, -0.2]]\n",
    "text =['$\\phi(x) = 1$',\n",
    "       '$\\phi(x) = x$',\n",
    "       '$\\phi(x) = x^2$']\n",
    "mlai.plot_basis(mlai.polynomial, x_min=-1.3, x_max=1.3, fig=f, ax=ax, loc=loc, text=text)    \n"
   ]
  },
  {
   "cell_type": "code",
   "execution_count": 4,
   "metadata": {
    "slideshow": {
     "slide_type": "subslide"
    }
   },
   "outputs": [],
   "source": [
    "from ipywidgets import *\n",
    "def display_plots(filebase, directory=None, width=700, height=500, **kwargs):\n",
    "    \"\"\"Display a series of plots controlled by sliders. The function relies on Python string format functionality to index through a series of plots.\"\"\"\n",
    "    def show_figure(filebase, directory, **kwargs):\n",
    "        \"\"\"Helper function to load in the relevant plot for display.\"\"\"\n",
    "        filename = filebase.format(**kwargs)\n",
    "        if directory is not None:\n",
    "            filename = directory + '/' + filename           \n",
    "        display(HTML(\"<img src='{filename}'>\".format(filename=filename)))\n",
    "        \n",
    "    interact(show_figure, filebase=fixed(filebase), directory=fixed(directory), **kwargs)"
   ]
  },
  {
   "cell_type": "code",
   "execution_count": 5,
   "metadata": {
    "slideshow": {
     "slide_type": "slide"
    }
   },
   "outputs": [
    {
     "data": {
      "application/vnd.jupyter.widget-view+json": {
       "model_id": "2f2a473cadb64de8b69c8fab9b1fe025",
       "version_major": 2,
       "version_minor": 0
      },
      "text/html": [
       "<p>Failed to display Jupyter Widget of type <code>interactive</code>.</p>\n",
       "<p>\n",
       "  If you're reading this message in the Jupyter Notebook or JupyterLab Notebook, it may mean\n",
       "  that the widgets JavaScript is still loading. If this message persists, it\n",
       "  likely means that the widgets JavaScript library is either not installed or\n",
       "  not enabled. See the <a href=\"https://ipywidgets.readthedocs.io/en/stable/user_install.html\">Jupyter\n",
       "  Widgets Documentation</a> for setup instructions.\n",
       "</p>\n",
       "<p>\n",
       "  If you're reading this message in another frontend (for example, a static\n",
       "  rendering on GitHub or <a href=\"https://nbviewer.jupyter.org/\">NBViewer</a>),\n",
       "  it may mean that your frontend doesn't currently support widgets.\n",
       "</p>\n"
      ],
      "text/plain": [
       "interactive(children=(IntSlider(value=2, description='num_basis', max=3, min=1), Output()), _dom_classes=('widget-interact',))"
      ]
     },
     "metadata": {},
     "output_type": "display_data"
    }
   ],
   "source": [
    "display_plots('polynomial_basis{num_basis:0>3}.svg', directory='./diagrams', num_basis=(1,3))"
   ]
  },
  {
   "cell_type": "markdown",
   "metadata": {
    "slideshow": {
     "slide_type": "slide"
    }
   },
   "source": [
    "### Functions Derived from Quadratic Basis\n",
    "\n",
    "\\begin{align}\n",
    "    f(x) &= {\\color{\\redColor}w_0}\\phi_0(x) + {\\color{\\magentaColor}w_1 \\phi_1(x)} + {\\color{\\blueColor}w_2          \n",
    "                                                                                 \\phi_2(x)}\\\\\n",
    "         &= {\\color{\\redColor}w_0} \\quad\\;\\;\\;\\,+ {\\color{\\magentaColor}w_1x} \\quad\\;\\,+ {\\color{\\blueColor}w_2 x^2}\n",
    "\\end{align}"
   ]
  },
  {
   "cell_type": "code",
   "execution_count": null,
   "metadata": {
    "slideshow": {
     "slide_type": "slide"
    }
   },
   "outputs": [],
   "source": [
    "display_plots('polynomial_function{func_num:0>3}.svg', directory='./diagrams', func_num=(1,3))"
   ]
  },
  {
   "cell_type": "markdown",
   "metadata": {
    "slideshow": {
     "slide_type": "slide"
    }
   },
   "source": [
    "### Radial Basis Functions\n",
    "\n",
    "-   Or they can be local. E.g. radial (or Gaussian) basis\n",
    "\n",
    "    $$\\phi_j(x) = \\exp\\left(-\\frac{(x-\\mu_j)^2}{2\\ell^2}\\right)$$\n"
   ]
  },
  {
   "cell_type": "code",
   "execution_count": 9,
   "metadata": {
    "slideshow": {
     "slide_type": "skip"
    }
   },
   "outputs": [
    {
     "data": {
      "image/png": "[encoded data removed]",
      "text/plain": [
       "<matplotlib.figure.Figure at 0x10aa4e8d0>"
      ]
     },
     "metadata": {},
     "output_type": "display_data"
    }
   ],
   "source": [
    "f, ax = plt.subplots(figsize=(7, 7))\n",
    "\n",
    "loc = [[-1.25, -0.4],\n",
    "       [0., 1.25],\n",
    "       [1.25, -0.4]]\n",
    "text = ['$\\phi_1(x) = e^{-2(x + 1)^2}$',\n",
    "        '$\\phi_2(x) = e^{-2x^2}$', \n",
    "        '$\\phi_3(x) = e^{-2(x-1)^2}$']\n",
    "mlai.plot_basis(mlai.radial, x_min=-2, x_max=2, fig=f, ax=ax, loc=loc, text=text)   "
   ]
  },
  {
   "cell_type": "code",
   "execution_count": 7,
   "metadata": {
    "slideshow": {
     "slide_type": "slide"
    }
   },
   "outputs": [
    {
     "data": {
      "application/vnd.jupyter.widget-view+json": {
       "model_id": "dd3ada74bafc43feb5d9540e86a466cd",
       "version_major": 2,
       "version_minor": 0
      },
      "text/html": [
       "<p>Failed to display Jupyter Widget of type <code>interactive</code>.</p>\n",
       "<p>\n",
       "  If you're reading this message in the Jupyter Notebook or JupyterLab Notebook, it may mean\n",
       "  that the widgets JavaScript is still loading. If this message persists, it\n",
       "  likely means that the widgets JavaScript library is either not installed or\n",
       "  not enabled. See the <a href=\"https://ipywidgets.readthedocs.io/en/stable/user_install.html\">Jupyter\n",
       "  Widgets Documentation</a> for setup instructions.\n",
       "</p>\n",
       "<p>\n",
       "  If you're reading this message in another frontend (for example, a static\n",
       "  rendering on GitHub or <a href=\"https://nbviewer.jupyter.org/\">NBViewer</a>),\n",
       "  it may mean that your frontend doesn't currently support widgets.\n",
       "</p>\n"
      ],
      "text/plain": [
       "interactive(children=(IntSlider(value=2, description='num_basis', max=3, min=1), Output()), _dom_classes=('widget-interact',))"
      ]
     },
     "metadata": {},
     "output_type": "display_data"
    }
   ],
   "source": [
    "display_plots('radial_basis{num_basis:0>3}.svg', directory='./diagrams', num_basis=(1, 3))"
   ]
  },
  {
   "cell_type": "markdown",
   "metadata": {
    "slideshow": {
     "slide_type": "slide"
    }
   },
   "source": [
    "### Functions Derived from Radial Basis\n",
    "\n",
    "$$f(x) = {\\color{\\redColor}w_0 e^{-2(x+1)^2}}  + {\\color{\\magentaColor}w_1e^{-2x^2}} + {\\color{\\blueColor}w_2 e^{-2(x-1)^2}}$$"
   ]
  },
  {
   "cell_type": "code",
   "execution_count": 11,
   "metadata": {
    "slideshow": {
     "slide_type": "slide"
    }
   },
   "outputs": [
    {
     "data": {
      "application/vnd.jupyter.widget-view+json": {
       "model_id": "1f5d6b2d405e47de8f1acce70845f072",
       "version_major": 2,
       "version_minor": 0
      },
      "text/html": [
       "<p>Failed to display Jupyter Widget of type <code>interactive</code>.</p>\n",
       "<p>\n",
       "  If you're reading this message in the Jupyter Notebook or JupyterLab Notebook, it may mean\n",
       "  that the widgets JavaScript is still loading. If this message persists, it\n",
       "  likely means that the widgets JavaScript library is either not installed or\n",
       "  not enabled. See the <a href=\"https://ipywidgets.readthedocs.io/en/stable/user_install.html\">Jupyter\n",
       "  Widgets Documentation</a> for setup instructions.\n",
       "</p>\n",
       "<p>\n",
       "  If you're reading this message in another frontend (for example, a static\n",
       "  rendering on GitHub or <a href=\"https://nbviewer.jupyter.org/\">NBViewer</a>),\n",
       "  it may mean that your frontend doesn't currently support widgets.\n",
       "</p>\n"
      ],
      "text/plain": [
       "interactive(children=(IntSlider(value=2, description='func_num', max=3, min=1), Output()), _dom_classes=('widget-interact',))"
      ]
     },
     "metadata": {},
     "output_type": "display_data"
    }
   ],
   "source": [
    "display_plots('radial_function{func_num:0>3}.svg', directory='./diagrams', func_num=(1,3))"
   ]
  },
  {
   "cell_type": "markdown",
   "metadata": {
    "slideshow": {
     "slide_type": "slide"
    }
   },
   "source": [
    "### Basis Function Models\n",
    "\n",
    "-   The *prediction function* is now defined as\n",
    "    $$f(\\mathbf{x}_i) = \\sum_{j=0}^m w_j \\phi_{i, j},$$\n",
    "\n",
    "where we have used $\\phi_{i, j} = \\phi_{j}(\\mathbf{x}_i)$."
   ]
  },
  {
   "cell_type": "markdown",
   "metadata": {
    "slideshow": {
     "slide_type": "slide"
    }
   },
   "source": [
    "## Vector Notation\n",
    "\n",
    "-   Write in vector notation,\n",
    "    $$f(\\mathbf{x}_i) = \\mathbf{w}^\\top \\boldsymbol{\\phi}_i$$\n",
    "    \n",
    "-   This is, we joint the scalar functions $\\phi_{ij}$ into a vector $\\boldsymbol{\\phi}_i$\n",
    "\n",
    "\\begin{align*}\n",
    "    \\boldsymbol{\\phi}_i =\n",
    "                \\begin{bmatrix}\n",
    "                    \\phi_0(\\mathbf{x}_i)\\\\\n",
    "                    \\phi_1(\\mathbf{x}_i)\\\\\n",
    "                    \\vdots\\\\\n",
    "                    \\phi_m(\\mathbf{x}_i)\n",
    "                \\end{bmatrix}.\n",
    "\\end{align*}"
   ]
  },
  {
   "cell_type": "markdown",
   "metadata": {
    "slideshow": {
     "slide_type": "slide"
    }
   },
   "source": [
    "### Log Likelihood for Basis Function Model\n",
    "\n",
    "-   The likelihood of a single data point is\n",
    "    $$p\\left(y_i|\\mathbf{x}_i\\right)=\\frac{1}{\\sqrt{2\\pi\\sigma^2}}\\exp\n",
    "        \\left(-\\frac{\\left(y_i-\\mathbf{w}^{\\top}\\boldsymbol{\\phi}_i\\right)^{2}}{2\\sigma^2}\\right).$$\n",
    "       \n",
    "-   Using the i.i.d. assumption on the whole dataset\n",
    "\\begin{align*}\n",
    "   p(\\mathbf{y}|\\mathbf{X})&= \\prod_{i=1}^n p(y_i|\\mathbf{x}_i)\\\\\n",
    "   p(\\mathbf{y}|\\mathbf{X})&= \\prod_{i=1}^n \\frac{1}{\\sqrt{2\\pi \\sigma^2}}\\exp \\left(-  \n",
    "                              \\frac{\\left(y_i-\\mathbf{w}^{\\top}\\boldsymbol{\\phi}_i\\right)^{2}}{2\\sigma^2}\\right)\\\\\n",
    "   p(\\mathbf{y}|\\mathbf{X})&= \\frac{1}{\\left(2\\pi \\sigma^2\\right)^{\\frac{n}{2}}}\\exp\\left(-\n",
    "                               \\frac{\\sum_{i=1}^n\\left(y_i-\\mathbf{w}^{\\top}\\boldsymbol{\\phi}_i\\right)^{2}} \n",
    "                                      {2\\sigma^2}\\right).\n",
    " \\end{align*}"
   ]
  },
  {
   "cell_type": "markdown",
   "metadata": {
    "slideshow": {
     "slide_type": "slide"
    }
   },
   "source": [
    "### Log Likelihood for Basis Function Model\n",
    "\n",
    "-   Leading to a log likelihood for the data set of\n",
    "    $$L(\\mathbf{w},\\sigma^2)= -\\frac{n}{2}\\log \\sigma^2\n",
    "          -\\frac{n}{2}\\log 2\\pi -\\frac{\\sum\n",
    "            _{i=1}^{n}\\left(y_i-\\mathbf{w}^{\\top}\\boldsymbol{\\phi}_i\\right)^{2}}{2\\sigma^2}.$$\n",
    "\n",
    " "
   ]
  },
  {
   "cell_type": "markdown",
   "metadata": {
    "slideshow": {
     "slide_type": "slide"
    }
   },
   "source": [
    "### Objective Function\n",
    "\n",
    "- And a corresponding *objective function* of the form\n",
    "    $$E(\\mathbf{w},\\sigma^2)= \\frac{n}{2}\\log\n",
    "          \\sigma^2 + \\frac{\\sum\n",
    "            _{i=1}^{n}\\left(y_i-\\mathbf{w}^{\\top}\\boldsymbol{\\phi}_i\\right)^{2}}{2\\sigma^2}.$$"
   ]
  },
  {
   "cell_type": "markdown",
   "metadata": {
    "slideshow": {
     "slide_type": "slide"
    }
   },
   "source": [
    "### Expand the Brackets\n",
    "\n",
    "\\begin{align}\n",
    "  E(\\mathbf{w},\\sigma^2) =  &\\frac{n}{2}\\log \\sigma^2 + \\frac{1}{2\\sigma^2}\\sum _{i=1}^{n}y_i^{2}-\\frac{1}\n",
    "                                {\\sigma^2}\\sum _{i=1}^{n}y_i\\mathbf{w}^{\\top}\\boldsymbol{\\phi}_i\\\\ \n",
    "                           &+\\frac{1}{2\\sigma^2}\\sum_{i=1}^{n}\n",
    "                           \\mathbf{w}^{\\top}\\boldsymbol{\\phi}_i\\boldsymbol{\\phi}_i^{\\top}\\mathbf{w}.                   \n",
    "\\end{align}\n",
    " "
   ]
  },
  {
   "cell_type": "markdown",
   "metadata": {
    "slideshow": {
     "slide_type": "slide"
    }
   },
   "source": [
    " ### Expand the Brackets\n",
    " $$ \\begin{align} E(\\mathbf{w}, \\sigma^2) = & \\frac{n}{2}\\log \\sigma^2 + \\frac{1}{2\\sigma^2}\\sum _{i=1}^{n}y_i^{2}-\\frac{1}{\\sigma^2}\n",
    "  \\mathbf{w}^\\top\\sum_{i=1}^{n}\\boldsymbol{\\phi}_i y_i\\\\ & +\\frac{1}{2\\sigma^2} \\mathbf{w}^{\\top}\\left[\\sum\n",
    "    _{i=1}^{n}\\boldsymbol{\\phi}_i\\boldsymbol{\\phi}_i^{\\top}\\right]\\mathbf{w}.\\end{align}$$"
   ]
  },
  {
   "cell_type": "markdown",
   "metadata": {
    "slideshow": {
     "slide_type": "slide"
    }
   },
   "source": [
    "### Multivariate Derivatives Reminder\n",
    "\n",
    "-   We will need some multivariate calculus.\n",
    "    $$\\frac{\\text{d}\\mathbf{a}^{\\top}\\mathbf{w}}{\\text{d}\\mathbf{w}}=\\frac{\\text{d}\\mathbf{w}^{\\top}\\mathbf{a}}{\\text{d}\\mathbf{w}}=\\mathbf{a}$$\n",
    "    and\n",
    "    $$\\frac{\\text{d}\\mathbf{w}^{\\top}\\mathbf{A}\\mathbf{w}}{\\text{d}\\mathbf{w}}=\\left(\\mathbf{A}+\\mathbf{A}^{\\top}\\right)\\mathbf{w}$$\n",
    "    or if $\\mathbf{A}$ is symmetric (*i.e.*\n",
    "    $\\mathbf{A}=\\mathbf{A}^{\\top}$)\n",
    "    $$\\frac{\\text{d}\\mathbf{w}^{\\top}\\mathbf{A}\\mathbf{w}}{\\text{d}\\mathbf{w}}=2\\mathbf{A}\\mathbf{w}.$$"
   ]
  },
  {
   "cell_type": "markdown",
   "metadata": {
    "slideshow": {
     "slide_type": "slide"
    }
   },
   "source": [
    "### Differentiate\n",
    "\n",
    "Differentiating with respect to the vector $\\mathbf{w}$ we obtain\n",
    "$$\\frac{\\text{d} E\\left(\\mathbf{w},\\sigma^2 \\right)}{\\text{d} \\mathbf{w}}=-\\frac{1}{\\sigma^2} \\sum _{i=1}^{n}\\boldsymbol{\\phi}_iy_i+\\frac{1}{\\sigma^2} \\left[\\sum _{i=1}^{n}\\boldsymbol{\\phi}_i\\boldsymbol{\\phi}_i^{\\top}\\right]\\mathbf{w}$$\n",
    "Leading to\n",
    "$$\\mathbf{w}^{*}=\\left[\\sum _{i=1}^{n}\\boldsymbol{\\phi}_i\\boldsymbol{\\phi}_i^{\\top}\\right]^{-1}\\sum _{i=1}^{n}\\boldsymbol{\\phi}_iy_i,$$"
   ]
  },
  {
   "cell_type": "markdown",
   "metadata": {
    "slideshow": {
     "slide_type": "slide"
    }
   },
   "source": [
    "### Matrix Notation\n",
    "\n",
    "Rewrite in matrix notation:\n",
    "$$\\sum _{i=1}^{n}\\boldsymbol{\\phi}_i\\boldsymbol{\\phi}_i^\\top = \\boldsymbol{\\Phi}^\\top \\boldsymbol{\\Phi}$$\n",
    "$$\\sum _{i=1}^{n}\\boldsymbol{\\phi}_iy_i = \\boldsymbol{\\Phi}^\\top \\mathbf{y}$$"
   ]
  },
  {
   "cell_type": "markdown",
   "metadata": {
    "slideshow": {
     "slide_type": "slide"
    }
   },
   "source": [
    "### $\\sum _{i=1}^{n}\\boldsymbol{\\phi}_i\\boldsymbol{\\phi}_i^\\top=\\boldsymbol{\\Phi}^{\\top}\\boldsymbol{\\Phi}$\n",
    "\n",
    "Let us write \n",
    "\n",
    "\\begin{align*}\n",
    "    \\boldsymbol{\\Phi} =\n",
    "                \\begin{bmatrix}\n",
    "                    \\boldsymbol{\\phi}^{\\top}_1\\\\\n",
    "                    \\boldsymbol{\\phi}^{\\top}_2\\\\\n",
    "                    \\vdots\\\\\n",
    "                    \\boldsymbol{\\phi}^{\\top}_n\n",
    "                \\end{bmatrix},\n",
    "     \\quad\n",
    "     \\boldsymbol{\\Phi}^{\\top} =\n",
    "                \\begin{bmatrix}\n",
    "                    \\boldsymbol{\\phi}_1\\; \\boldsymbol{\\phi}_2\\; \\cdots \\; \\boldsymbol{\\phi}_n\\\\               \n",
    "                \\end{bmatrix}.\n",
    "\\end{align*}\n",
    "\n",
    "We can then say that\n",
    "\n",
    "\\begin{align*}\n",
    "    \\boldsymbol{\\Phi}^{\\top}\\boldsymbol{\\Phi} =\n",
    "                \\begin{bmatrix}\n",
    "                    \\boldsymbol{\\phi}_1\\; \\boldsymbol{\\phi}_2\\; \\cdots \\; \\boldsymbol{\\phi}_n\\\\               \n",
    "                \\end{bmatrix} \n",
    "                \\begin{bmatrix}\n",
    "                    \\boldsymbol{\\phi}^{\\top}_1\\\\\n",
    "                    \\boldsymbol{\\phi}^{\\top}_2\\\\\n",
    "                    \\vdots\\\\\n",
    "                    \\boldsymbol{\\phi}^{\\top}_n\n",
    "                \\end{bmatrix} =    \n",
    "\\boldsymbol{\\phi}_1\\boldsymbol{\\phi}^{\\top}_1+\\boldsymbol{\\phi}_2\\mathbf{x}^{\\top}_2+\\cdots+\\boldsymbol{\\phi}_n\n",
    "                \\boldsymbol{\\phi}^{\\top}_n = \\sum _{i=1}^{n}\\boldsymbol{\\phi}_i\\boldsymbol{\\phi}_i^\\top.\n",
    "\\end{align*}"
   ]
  },
  {
   "cell_type": "markdown",
   "metadata": {
    "slideshow": {
     "slide_type": "slide"
    }
   },
   "source": [
    "### Update Equations\n",
    "\n",
    "-   Update for $\\mathbf{w}^{*}$.\n",
    "    $$\\mathbf{w}^{*} = \\left(\\boldsymbol{\\Phi}^\\top \\boldsymbol{\\Phi}\\right)^{-1} \\boldsymbol{\\Phi}^\\top \\mathbf{y}$$\n",
    "\n",
    "\n",
    "-   The solution for $\\mathbf{w}^{*}$ exists if we can compute $\\left(\\boldsymbol{\\Phi}^\\top \\boldsymbol{\\Phi}\\right)^{-1}$. The inverse can be computed as long as $\\boldsymbol{\\Phi}^\\top \\boldsymbol{\\Phi}$ is non-singular (e.g. determinat different from zero, or has full-rank).\n",
    "\n",
    "\n",
    "-   The equation for $\\left.\\sigma^2\\right.^{*}$ may also be found\n",
    "    $$\\left.\\sigma^2\\right.^{{*}}=\\frac{\\sum _{i=1}^{n}\\left(y_i-\\left.\\mathbf{w}^{*}\\right.^{\\top}\\boldsymbol{\\phi}_i\\right)^{2}}{n}.$$"
   ]
  },
  {
   "cell_type": "markdown",
   "metadata": {
    "slideshow": {
     "slide_type": "slide"
    }
   },
   "source": [
    "### Avoid Direct Inverse\n",
    "\n",
    "- E.g. Solve for $\\mathbf{w}$\n",
    "  $$\\left(\\boldsymbol{\\Phi}^\\top \\boldsymbol{\\Phi}\\right)\\mathbf{w} = \\boldsymbol{\\Phi}^\\top \\mathbf{y}$$\n",
    "  \n",
    "- See `np.linalg.solve`\n",
    "\n",
    "- In practice use $\\mathbf{Q}\\mathbf{R}$ decomposition (see lab class notes)."
   ]
  },
  {
   "cell_type": "markdown",
   "metadata": {
    "slideshow": {
     "slide_type": "slide"
    }
   },
   "source": [
    "### Polynomial Fits to Olympic Data"
   ]
  },
  {
   "cell_type": "code",
   "execution_count": 12,
   "metadata": {
    "slideshow": {
     "slide_type": "subslide"
    }
   },
   "outputs": [
    {
     "ename": "NameError",
     "evalue": "name 'plot' is not defined",
     "output_type": "error",
     "traceback": [
      "\u001b[0;31m---------------------------------------------------------------------------\u001b[0m",
      "\u001b[0;31mNameError\u001b[0m                                 Traceback (most recent call last)",
      "\u001b[0;32m<ipython-input-12-7ca2c8523d5d>\u001b[0m in \u001b[0;36m<module>\u001b[0;34m()\u001b[0m\n\u001b[1;32m     18\u001b[0m     \u001b[0msum_squares\u001b[0m\u001b[0;34m[\u001b[0m\u001b[0mnum_basis\u001b[0m\u001b[0;34m-\u001b[0m\u001b[0;36m1\u001b[0m\u001b[0;34m]\u001b[0m \u001b[0;34m=\u001b[0m \u001b[0mmodel\u001b[0m\u001b[0;34m.\u001b[0m\u001b[0mobjective\u001b[0m\u001b[0;34m(\u001b[0m\u001b[0;34m)\u001b[0m\u001b[0;34m\u001b[0m\u001b[0;34m\u001b[0m\u001b[0m\n\u001b[1;32m     19\u001b[0m     \u001b[0mll\u001b[0m\u001b[0;34m[\u001b[0m\u001b[0mnum_basis\u001b[0m\u001b[0;34m-\u001b[0m\u001b[0;36m1\u001b[0m\u001b[0;34m]\u001b[0m \u001b[0;34m=\u001b[0m \u001b[0mmodel\u001b[0m\u001b[0;34m.\u001b[0m\u001b[0mlog_likelihood\u001b[0m\u001b[0;34m(\u001b[0m\u001b[0;34m)\u001b[0m\u001b[0;34m\u001b[0m\u001b[0;34m\u001b[0m\u001b[0m\n\u001b[0;32m---> 20\u001b[0;31m     plot.marathon_fit(model=model, value = num_basis, param_name='', param_range=(1, max_basis+1), \n\u001b[0m\u001b[1;32m     21\u001b[0m                       \u001b[0mxlim\u001b[0m\u001b[0;34m=\u001b[0m \u001b[0mdata_limits\u001b[0m\u001b[0;34m,\u001b[0m \u001b[0mobjective_ylim\u001b[0m\u001b[0;34m=\u001b[0m\u001b[0;34m[\u001b[0m\u001b[0;36m0\u001b[0m\u001b[0;34m,\u001b[0m\u001b[0;36m8\u001b[0m\u001b[0;34m]\u001b[0m\u001b[0;34m,\u001b[0m\u001b[0;34m\u001b[0m\u001b[0;34m\u001b[0m\u001b[0m\n\u001b[1;32m     22\u001b[0m                       \u001b[0mtitle\u001b[0m\u001b[0;34m=\u001b[0m\u001b[0;34m'Root Mean Square Training Error'\u001b[0m\u001b[0;34m,\u001b[0m\u001b[0;34m\u001b[0m\u001b[0;34m\u001b[0m\u001b[0m\n",
      "\u001b[0;31mNameError\u001b[0m: name 'plot' is not defined"
     ]
    },
    {
     "data": {
      "image/png": "[encoded data removed]",
      "text/plain": [
       "<matplotlib.figure.Figure at 0x1115e2400>"
      ]
     },
     "metadata": {},
     "output_type": "display_data"
    }
   ],
   "source": [
    "basis = mlai.polynomial\n",
    "\n",
    "data = pods.datasets.olympic_marathon_men()\n",
    "#f, ax = plt.subplots(1, 2, figsize=(10,5))\n",
    "f, ax = plt.subplots(figsize=(10,5))\n",
    "x = data['X']\n",
    "y = data['Y']\n",
    "\n",
    "data_limits = [1892, 2020]\n",
    "max_basis = 10\n",
    "\n",
    "ll = np.array([np.nan]*(max_basis))\n",
    "sum_squares = np.array([np.nan]*(max_basis))\n",
    "\n",
    "for num_basis in range(1,max_basis):\n",
    "    model = mlai.LM(x, y, basis, num_basis=num_basis, data_limits=data_limits)\n",
    "    model.fit()\n",
    "    sum_squares[num_basis-1] = model.objective() \n",
    "    ll[num_basis-1] = model.log_likelihood()   \n",
    "    plot.marathon_fit_s4(model=model, value = num_basis, param_name='', param_range=(1, max_basis+1), \n",
    "                      xlim= data_limits, objective_ylim=[0,8],\n",
    "                      title='Root Mean Square Training Error',\n",
    "                      fig=f, ax=ax)\n",
    "    \n"
   ]
  },
  {
   "cell_type": "code",
   "execution_count": 13,
   "metadata": {
    "slideshow": {
     "slide_type": "slide"
    }
   },
   "outputs": [
    {
     "data": {
      "application/vnd.jupyter.widget-view+json": {
       "model_id": "cf8ffd8e408b4daca52a5e2ab6d951eb",
       "version_major": 2,
       "version_minor": 0
      },
      "text/html": [
       "<p>Failed to display Jupyter Widget of type <code>interactive</code>.</p>\n",
       "<p>\n",
       "  If you're reading this message in the Jupyter Notebook or JupyterLab Notebook, it may mean\n",
       "  that the widgets JavaScript is still loading. If this message persists, it\n",
       "  likely means that the widgets JavaScript library is either not installed or\n",
       "  not enabled. See the <a href=\"https://ipywidgets.readthedocs.io/en/stable/user_install.html\">Jupyter\n",
       "  Widgets Documentation</a> for setup instructions.\n",
       "</p>\n",
       "<p>\n",
       "  If you're reading this message in another frontend (for example, a static\n",
       "  rendering on GitHub or <a href=\"https://nbviewer.jupyter.org/\">NBViewer</a>),\n",
       "  it may mean that your frontend doesn't currently support widgets.\n",
       "</p>\n"
      ],
      "text/plain": [
       "interactive(children=(IntSlider(value=5, description='num_basis', max=9, min=1), Output()), _dom_classes=('widget-interact',))"
      ]
     },
     "metadata": {},
     "output_type": "display_data"
    }
   ],
   "source": [
    "display_plots('olympic_LM_polynomial_{num_basis:0>3}.svg', directory='./diagrams', num_basis=(1, max_basis-1))"
   ]
  },
  {
   "cell_type": "markdown",
   "metadata": {
    "slideshow": {
     "slide_type": "slide"
    }
   },
   "source": [
    "#### Reading\n",
    "\n",
    "- Section 1.4 of Rogers and Girolami (2016).\n",
    "- Chapter 1, pg 1-6 of Bishop (2006).\n",
    "- Chapter 3, Section 3.1 of Bishop (2006) up to pg 143.\n",
    "\n",
    " "
   ]
  }
 ],
 "metadata": {
  "celltoolbar": "Slideshow",
  "kernelspec": {
   "display_name": "Python 3",
   "language": "python",
   "name": "python3"
  },
  "language_info": {
   "codemirror_mode": {
    "name": "ipython",
    "version": 3
   },
   "file_extension": ".py",
   "mimetype": "text/x-python",
   "name": "python",
   "nbconvert_exporter": "python",
   "pygments_lexer": "ipython3",
   "version": "3.6.8"
  }
 },
 "nbformat": 4,
 "nbformat_minor": 1
}
